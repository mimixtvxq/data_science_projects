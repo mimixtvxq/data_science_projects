{
 "cells": [
  {
   "cell_type": "code",
   "execution_count": 157,
   "metadata": {},
   "outputs": [],
   "source": [
    "# -*- coding: utf-8 -*-\n",
    "#Tanasorn Chindasook \n",
    "#Web crawler + Google Sheets updater for apartment hunting \n",
    "\n",
    "from bs4 import BeautifulSoup as soup\n",
    "import pandas as pd\n",
    "import requests\n",
    "from pprint import pprint\n",
    "\n",
    "#GoogleSheets API\n",
    "import gspread\n",
    "from oauth2client.service_account import ServiceAccountCredentials"
   ]
  },
  {
   "cell_type": "code",
   "execution_count": 158,
   "metadata": {},
   "outputs": [],
   "source": [
    "# URL or List of URLS\n",
    "URLS = ['https://www.immobilienscout24.de/expose/119164572?referrer=RESULT_LIST_MAP&navigationServiceUrl=%2FSuche%2Fcontroller%2FexposeNavigation%2Fnavigate.go%3FsearchUrl%3D%2FSuche%2Fradius%2Fwohnung-mieten%3Fcenterofsearchaddress%253DBerlin%3B%3B%3B1276003001046%3B%3BMitte%252520%28Mitte%29%2526price%253D1000.0-2000.0%2526livingspace%253D50.0-%2526geocoordinates%253D52.5234%3B13.41139%3B4.0%2526pagenumber%253D2%2526enteredFrom%253Dresult_list%2526enterFromNavigationBar%253Dtrue%2526navigation%253Dzurueck%2526viewMode%253DMAP%26exposeId%3D119164572&navigationHasPrev=true&navigationHasNext=true&navigationBarType=RESULT_LIST&searchId=db713351-2bc4-3860-aebb-18699e5ec4ba&resultListViewMode=MAP&boundingBox=52.519471%2C13.378345%2C52.53853%2C13.42641&searchType=radius#/',\n",
    "       'https://www.immobilienscout24.de/expose/117627923?referrer=RESULT_LIST_MAP&navigationServiceUrl=%2FSuche%2Fcontroller%2FexposeNavigation%2Fnavigate.go%3FsearchUrl%3D%2FSuche%2Fradius%2Fwohnung-mieten%3Fcenterofsearchaddress%253DBerlin%3B%3B%3B1276003001046%3B%3BMitte%252520%28Mitte%29%2526price%253D1000.0-2000.0%2526livingspace%253D50.0-%2526geocoordinates%253D52.5234%3B13.41139%3B4.0%2526enteredFrom%253Dresult_list%2526viewMode%253DMAP%26exposeId%3D117627923&navigationHasPrev=true&navigationHasNext=true&navigationBarType=RESULT_LIST&searchId=5f5f6faf-4db1-3096-9f15-6a4473e94ef0&resultListViewMode=MAP&boundingBox=52.522292%2C13.378345%2C52.535711%2C13.42641&searchType=radius#/',\n",
    "       'https://www.immobilienscout24.de/expose/119447684?referrer=RESULT_LIST_MAP&navigationServiceUrl=%2FSuche%2Fcontroller%2FexposeNavigation%2Fnavigate.go%3FsearchUrl%3D%2FSuche%2Fradius%2Fwohnung-mieten%3Fcenterofsearchaddress%253DBerlin%3B%3B%3B1276003001046%3B%3BMitte%252520%28Mitte%29%2526price%253D1000.0-2000.0%2526livingspace%253D50.0-%2526geocoordinates%253D52.5234%3B13.41139%3B4.0%2526pagenumber%253D2%2526enteredFrom%253Dresult_list%2526enterFromNavigationBar%253Dtrue%2526navigation%253Dzurueck%2526viewMode%253DMAP%26exposeId%3D119447684&navigationHasPrev=true&navigationHasNext=true&navigationBarType=RESULT_LIST&searchId=db713351-2bc4-3860-aebb-18699e5ec4ba&resultListViewMode=MAP&boundingBox=52.51962%2C13.368761%2C52.538679%2C13.416826&searchType=radius#/']"
   ]
  },
  {
   "cell_type": "code",
   "execution_count": 159,
   "metadata": {},
   "outputs": [],
   "source": [
    "# GOOGLE SHEET KEY\n",
    "GSKEY = '1ffjHfhzP9IHINpNJcKBOsDLRA2lSWA5VrcreDNe-o30'"
   ]
  },
  {
   "cell_type": "code",
   "execution_count": 160,
   "metadata": {},
   "outputs": [],
   "source": [
    "# Connect to Google Sheets \n",
    "\n",
    "scope = [\"https://spreadsheets.google.com/feeds\",\n",
    "         'https://www.googleapis.com/auth/spreadsheets',\n",
    "         \"https://www.googleapis.com/auth/drive.file\",\n",
    "         \"https://www.googleapis.com/auth/drive\"]\n",
    "creds = ServiceAccountCredentials.from_json_keyfile_name('credentials.json',scope)\n",
    "client = gspread.authorize(creds)\n",
    "\n",
    "sheet = client.open_by_key(GSKEY).sheet1"
   ]
  },
  {
   "cell_type": "code",
   "execution_count": 163,
   "metadata": {},
   "outputs": [
    {
     "name": "stderr",
     "output_type": "stream",
     "text": [
      "/Users/mimichindasook/opt/anaconda3/lib/python3.7/site-packages/urllib3/connectionpool.py:1004: InsecureRequestWarning: Unverified HTTPS request is being made to host 'www.immobilienscout24.de'. Adding certificate verification is strongly advised. See: https://urllib3.readthedocs.io/en/latest/advanced-usage.html#ssl-warnings\n",
      "  InsecureRequestWarning,\n",
      "/Users/mimichindasook/opt/anaconda3/lib/python3.7/site-packages/urllib3/connectionpool.py:1004: InsecureRequestWarning: Unverified HTTPS request is being made to host 'www.immobilienscout24.de'. Adding certificate verification is strongly advised. See: https://urllib3.readthedocs.io/en/latest/advanced-usage.html#ssl-warnings\n",
      "  InsecureRequestWarning,\n",
      "/Users/mimichindasook/opt/anaconda3/lib/python3.7/site-packages/urllib3/connectionpool.py:1004: InsecureRequestWarning: Unverified HTTPS request is being made to host 'www.immobilienscout24.de'. Adding certificate verification is strongly advised. See: https://urllib3.readthedocs.io/en/latest/advanced-usage.html#ssl-warnings\n",
      "  InsecureRequestWarning,\n"
     ]
    }
   ],
   "source": [
    "# BeautifulSoup HTML retrieval\n",
    "for URL in URLS:\n",
    "    r = requests.get(URL, verify=False)\n",
    "    page_html = r.text\n",
    "    page_soup = soup(page_html,'html.parser')\n",
    "\n",
    "    # Get variables from webpage to insert\n",
    "    flat_name = page_soup.find('h1').text\n",
    "\n",
    "    address_1 = page_soup.find('span',{'class':'block font-nowrap print-hide'}).text\n",
    "    address_2 = page_soup.find('span',{'class':'zip-region-and-country'}).text\n",
    "    address = (address_1 + address_2).strip()\n",
    "\n",
    "    rooms = int(page_soup.find('div',{'class':'is24qa-zi is24-value font-semibold'}).text.strip())\n",
    "\n",
    "    sqm = float(page_soup.find('div',{'class':'is24qa-flaeche is24-value font-semibold'})\\\n",
    "    .text.strip()\\\n",
    "    .replace(',','.')\\\n",
    "    .split(' ')\\\n",
    "    [0])\n",
    "\n",
    "    move_in_date = page_soup.find('dd',{'class':'is24qa-bezugsfrei-ab grid-item three-fifths'}).text.strip()\n",
    "    \n",
    "    try:\n",
    "        floor = page_soup.find('dd',{'class':'is24qa-etage grid-item three-fifths'}).text.strip()\n",
    "    except:\n",
    "        floor = ''\n",
    "    try:\n",
    "        price_warm = float(page_soup.find('dd',{'class':'is24qa-gesamtmiete grid-item three-fifths font-bold'})\\\n",
    "        .text.strip()\\\n",
    "        .replace('.','')\\\n",
    "        .split(' ')\\\n",
    "        [0])\n",
    "    except:\n",
    "        price_warm = ''\n",
    "\n",
    "    pps = float(price_warm)/float(sqm)\n",
    "    \n",
    "    # create row to update in gsheets\n",
    "    insert_row = [flat_name, sqm, rooms, floor, price_warm, address, URL, '', '', '','','','','',pps, move_in_date]\n",
    "    \n",
    "    #insert row into gsheets\n",
    "    sheet.insert_row(insert_row,16)"
   ]
  },
  {
   "cell_type": "code",
   "execution_count": 112,
   "metadata": {},
   "outputs": [],
   "source": []
  },
  {
   "cell_type": "code",
   "execution_count": 120,
   "metadata": {},
   "outputs": [],
   "source": []
  },
  {
   "cell_type": "code",
   "execution_count": 155,
   "metadata": {},
   "outputs": [],
   "source": []
  },
  {
   "cell_type": "code",
   "execution_count": null,
   "metadata": {},
   "outputs": [],
   "source": []
  }
 ],
 "metadata": {
  "kernelspec": {
   "display_name": "Python 3",
   "language": "python",
   "name": "python3"
  },
  "language_info": {
   "codemirror_mode": {
    "name": "ipython",
    "version": 3
   },
   "file_extension": ".py",
   "mimetype": "text/x-python",
   "name": "python",
   "nbconvert_exporter": "python",
   "pygments_lexer": "ipython3",
   "version": "3.7.6"
  }
 },
 "nbformat": 4,
 "nbformat_minor": 4
}
