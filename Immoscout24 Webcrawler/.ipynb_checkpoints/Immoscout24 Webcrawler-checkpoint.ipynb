{
 "cells": [
  {
   "cell_type": "code",
   "execution_count": 187,
   "metadata": {},
   "outputs": [],
   "source": [
    "# -*- coding: utf-8 -*-\n",
    "#Tanasorn Chindasook \n",
    "#Web crawler + Google Sheets updater for apartment hunting \n",
    "\n",
    "from bs4 import BeautifulSoup as soup\n",
    "import pandas as pd\n",
    "import requests\n",
    "from pprint import pprint\n",
    "import sys\n",
    "\n",
    "#GoogleSheets API\n",
    "import gspread\n",
    "from oauth2client.service_account import ServiceAccountCredentials"
   ]
  },
  {
   "cell_type": "code",
   "execution_count": 188,
   "metadata": {},
   "outputs": [],
   "source": [
    "args = sys.argv"
   ]
  },
  {
   "cell_type": "code",
   "execution_count": 189,
   "metadata": {},
   "outputs": [],
   "source": [
    "# GOOGLE SHEET KEY\n",
    "GSKEY = '1ffjHfhzP9IHINpNJcKBOsDLRA2lSWA5VrcreDNe-o30'"
   ]
  },
  {
   "cell_type": "code",
   "execution_count": 190,
   "metadata": {},
   "outputs": [],
   "source": [
    "# Connect to Google Sheets \n",
    "\n",
    "scope = [\"https://spreadsheets.google.com/feeds\",\n",
    "         'https://www.googleapis.com/auth/spreadsheets',\n",
    "         \"https://www.googleapis.com/auth/drive.file\",\n",
    "         \"https://www.googleapis.com/auth/drive\"]\n",
    "\n",
    "creds = ServiceAccountCredentials.from_json_keyfile_name('credentials.json',scope)\n",
    "client = gspread.authorize(creds)\n",
    "\n",
    "sheet = client.open_by_key(GSKEY).sheet1"
   ]
  },
  {
   "cell_type": "code",
   "execution_count": 197,
   "metadata": {},
   "outputs": [],
   "source": [
    "list_of_urls = client.open_by_key(GSKEY).worksheet('Sheet2')"
   ]
  },
  {
   "cell_type": "code",
   "execution_count": 198,
   "metadata": {},
   "outputs": [],
   "source": [
    "urls = list_of_urls.get_all_records()"
   ]
  },
  {
   "cell_type": "code",
   "execution_count": 242,
   "metadata": {},
   "outputs": [],
   "source": [
    "URLS = []\n",
    "for url in urls:\n",
    "    URLS.append(list(url.values()))"
   ]
  },
  {
   "cell_type": "code",
   "execution_count": 243,
   "metadata": {},
   "outputs": [],
   "source": [
    "# URL or List of URLS\n",
    "URLS = [item for sublist in URLS for item in sublist]"
   ]
  },
  {
   "cell_type": "code",
   "execution_count": 244,
   "metadata": {},
   "outputs": [
    {
     "name": "stderr",
     "output_type": "stream",
     "text": [
      "/Users/mimichindasook/opt/anaconda3/lib/python3.7/site-packages/urllib3/connectionpool.py:1004: InsecureRequestWarning: Unverified HTTPS request is being made to host 'www.immobilienscout24.de'. Adding certificate verification is strongly advised. See: https://urllib3.readthedocs.io/en/latest/advanced-usage.html#ssl-warnings\n",
      "  InsecureRequestWarning,\n",
      "/Users/mimichindasook/opt/anaconda3/lib/python3.7/site-packages/urllib3/connectionpool.py:1004: InsecureRequestWarning: Unverified HTTPS request is being made to host 'www.immobilienscout24.de'. Adding certificate verification is strongly advised. See: https://urllib3.readthedocs.io/en/latest/advanced-usage.html#ssl-warnings\n",
      "  InsecureRequestWarning,\n"
     ]
    },
    {
     "ename": "AttributeError",
     "evalue": "'NoneType' object has no attribute 'text'",
     "output_type": "error",
     "traceback": [
      "\u001b[0;31m---------------------------------------------------------------------------\u001b[0m",
      "\u001b[0;31mAttributeError\u001b[0m                            Traceback (most recent call last)",
      "\u001b[0;32m<ipython-input-244-1fd258799118>\u001b[0m in \u001b[0;36m<module>\u001b[0;34m\u001b[0m\n\u001b[1;32m     25\u001b[0m     [0])\n\u001b[1;32m     26\u001b[0m \u001b[0;34m\u001b[0m\u001b[0m\n\u001b[0;32m---> 27\u001b[0;31m     \u001b[0mmove_in_date\u001b[0m \u001b[0;34m=\u001b[0m \u001b[0mpage_soup\u001b[0m\u001b[0;34m.\u001b[0m\u001b[0mfind\u001b[0m\u001b[0;34m(\u001b[0m\u001b[0;34m'dd'\u001b[0m\u001b[0;34m,\u001b[0m\u001b[0;34m{\u001b[0m\u001b[0;34m'class'\u001b[0m\u001b[0;34m:\u001b[0m\u001b[0;34m'is24qa-bezugsfrei-ab grid-item three-fifths'\u001b[0m\u001b[0;34m}\u001b[0m\u001b[0;34m)\u001b[0m\u001b[0;34m.\u001b[0m\u001b[0mtext\u001b[0m\u001b[0;34m.\u001b[0m\u001b[0mstrip\u001b[0m\u001b[0;34m(\u001b[0m\u001b[0;34m)\u001b[0m\u001b[0;34m\u001b[0m\u001b[0;34m\u001b[0m\u001b[0m\n\u001b[0m\u001b[1;32m     28\u001b[0m \u001b[0;34m\u001b[0m\u001b[0m\n\u001b[1;32m     29\u001b[0m     \u001b[0;32mtry\u001b[0m\u001b[0;34m:\u001b[0m\u001b[0;34m\u001b[0m\u001b[0;34m\u001b[0m\u001b[0m\n",
      "\u001b[0;31mAttributeError\u001b[0m: 'NoneType' object has no attribute 'text'"
     ]
    }
   ],
   "source": [
    "# BeautifulSoup HTML retrieval\n",
    "for URL in URLS:\n",
    "    r = requests.get(URL, verify=False)\n",
    "    page_html = r.text\n",
    "    page_soup = soup(page_html,'html.parser')\n",
    "\n",
    "    # Get variables from webpage to insert\n",
    "    flat_name = page_soup.find('h1').text\n",
    "    try:\n",
    "        address_1 = page_soup.find('span',{'class':'block font-nowrap print-hide'}).text\n",
    "    except:\n",
    "        address_1 = ''\n",
    "    try:\n",
    "        address_2 = page_soup.find('span',{'class':'zip-region-and-country'}).text\n",
    "    except:\n",
    "        address_2 = ''\n",
    "    address = (address_1 + address_2).strip()\n",
    "\n",
    "    rooms = int(page_soup.find('div',{'class':'is24qa-zi is24-value font-semibold'}).text.strip())\n",
    "\n",
    "    sqm = float(page_soup.find('div',{'class':'is24qa-flaeche is24-value font-semibold'})\\\n",
    "    .text.strip()\\\n",
    "    .replace(',','.')\\\n",
    "    .split(' ')\\\n",
    "    [0])\n",
    "\n",
    "    try:\n",
    "        move_in_date = page_soup.find('dd',{'class':'is24qa-bezugsfrei-ab grid-item three-fifths'}).text.strip()\n",
    "    except:\n",
    "        move_in_date = ''\n",
    "        \n",
    "    try:\n",
    "        floor = page_soup.find('dd',{'class':'is24qa-etage grid-item three-fifths'}).text.strip()\n",
    "    except:\n",
    "        floor = 0\n",
    "    try:\n",
    "        price_warm = float(page_soup.find('dd',{'class':'is24qa-gesamtmiete grid-item three-fifths font-bold'})\\\n",
    "        .text.strip()\\\n",
    "        .replace('.','')\\\n",
    "        .split(' ')\\\n",
    "        [0])\n",
    "    except:\n",
    "        price_warm = 0\n",
    "\n",
    "    pps = (price_warm)/float(sqm)\n",
    "    \n",
    "    # create row to update in gsheets\n",
    "    insert_row = [flat_name, sqm, rooms, floor, price_warm, address, URL, '', '', '','','','','',pps, move_in_date]\n",
    "    \n",
    "    data = sheet.get_all_records()\n",
    "    \n",
    "    #insert row into gsheets\n",
    "    sheet.insert_row(insert_row,len(data) + 2)"
   ]
  },
  {
   "cell_type": "code",
   "execution_count": 179,
   "metadata": {},
   "outputs": [],
   "source": []
  },
  {
   "cell_type": "code",
   "execution_count": null,
   "metadata": {},
   "outputs": [],
   "source": []
  },
  {
   "cell_type": "code",
   "execution_count": 155,
   "metadata": {},
   "outputs": [],
   "source": []
  },
  {
   "cell_type": "code",
   "execution_count": null,
   "metadata": {},
   "outputs": [],
   "source": []
  }
 ],
 "metadata": {
  "kernelspec": {
   "display_name": "Python 3",
   "language": "python",
   "name": "python3"
  },
  "language_info": {
   "codemirror_mode": {
    "name": "ipython",
    "version": 3
   },
   "file_extension": ".py",
   "mimetype": "text/x-python",
   "name": "python",
   "nbconvert_exporter": "python",
   "pygments_lexer": "ipython3",
   "version": "3.7.6"
  }
 },
 "nbformat": 4,
 "nbformat_minor": 4
}
